{
 "cells": [
  {
   "cell_type": "markdown",
   "metadata": {},
   "source": [
    "## autocomplete service to return a list of top-10 documents based on their titles."
   ]
  },
  {
   "cell_type": "code",
   "execution_count": 1,
   "metadata": {},
   "outputs": [],
   "source": [
    "import tkinter as tk\n",
    "from tkinter import font\n",
    "from elasticsearch import Elasticsearch\n",
    "from elasticsearch.helpers import scan\n",
    "import time\n",
    "from datetime import datetime\n",
    "import matplotlib.pyplot as plt"
   ]
  },
  {
   "cell_type": "code",
   "execution_count": 2,
   "metadata": {},
   "outputs": [
    {
     "name": "stderr",
     "output_type": "stream",
     "text": [
      "C:\\Users\\Rahhal AbuZahra\\AppData\\Local\\Temp\\ipykernel_15600\\568568322.py:1: DeprecationWarning: The 'http_auth' parameter is deprecated. Use 'basic_auth' or 'bearer_auth' parameters instead\n",
      "  es = Elasticsearch([{'host': 'localhost', 'port': 9200, 'scheme': 'http'}], http_auth=('farah', 'farah123'))\n"
     ]
    }
   ],
   "source": [
    "es = Elasticsearch([{'host': 'localhost', 'port': 9200, 'scheme': 'http'}], http_auth=('farah', 'farah123'))\n",
    "index = 'reuters_index_irproj'"
   ]
  },
  {
   "cell_type": "code",
   "execution_count": 3,
   "metadata": {},
   "outputs": [],
   "source": [
    "def search_es(title):\n",
    "    try:\n",
    "        \n",
    "        query = {\n",
    "            \"query\": {\n",
    "                \"match\": {\n",
    "                    \"title\": title\n",
    "                }\n",
    "            },\n",
    "            \"size\": 10  # top 10 \n",
    "        }\n",
    "        result = es.search(index=index, body=query)\n",
    "\n",
    "        # Extract and return relevant information from the result\n",
    "        hits = result['hits']['hits']\n",
    "        return [hit['_source'] for hit in hits]\n",
    "\n",
    "    except ConnectionError:\n",
    "        return None"
   ]
  },
  {
   "cell_type": "code",
   "execution_count": 4,
   "metadata": {},
   "outputs": [],
   "source": [
    "def autocomplete(event):\n",
    "    query = entry.get()\n",
    "\n",
    "    if len(query) < 3:\n",
    "        suggestion_listbox.delete(0, tk.END)\n",
    "        return  # Don't suggest until at least 3 characters are typed\n",
    "\n",
    "    try:\n",
    "        es = Elasticsearch([{'host': 'localhost', 'port': 9200, 'scheme': 'http'}], http_auth=('farah', 'farah123'))\n",
    "        index = 'reuters_index_irproj'\n",
    "        \n",
    "        query_body = {\n",
    "            \"query\": {\n",
    "                \"match\": {\n",
    "                    \"title.autocomplete\": {\n",
    "                        \"query\": query,\n",
    "                        \"fuzziness\": \"AUTO\",\n",
    "                        \"prefix_length\": 2,\n",
    "                    }\n",
    "                }\n",
    "            },\n",
    "            \"size\": 10\n",
    "        }\n",
    "\n",
    "        suggestions = es.search(index=index, body=query_body)['hits']['hits']\n",
    "\n",
    "        # Extract and display autocomplete suggestions\n",
    "        suggestion_listbox.delete(0, tk.END)\n",
    "        for suggestion in suggestions:\n",
    "            title = suggestion['_source']['title']\n",
    "            suggestion_listbox.insert(tk.END, title)\n",
    "\n",
    "    except Exception as e:\n",
    "        print(f\"Error: {e}\")"
   ]
  },
  {
   "cell_type": "code",
   "execution_count": 5,
   "metadata": {},
   "outputs": [],
   "source": [
    "#when a suggestion is selected from the listbox\n",
    "def on_suggestion_select(event):\n",
    "    selected_index = suggestion_listbox.curselection()\n",
    "    if selected_index:\n",
    "        selected_suggestion = suggestion_listbox.get(selected_index)\n",
    "        entry.delete(0, tk.END)\n",
    "        entry.insert(tk.END, selected_suggestion)\n",
    "        # Clear the suggestions after choosing one\n",
    "        suggestion_listbox.delete(0, tk.END)"
   ]
  },
  {
   "cell_type": "code",
   "execution_count": 6,
   "metadata": {},
   "outputs": [],
   "source": [
    "#when the search button is clicked\n",
    "def on_search_click():\n",
    "    title = entry.get()\n",
    "    # Record the start time\n",
    "    start_time = time.time()\n",
    "    results = search_es(title)\n",
    "    # Record the end time\n",
    "    end_time = time.time()\n",
    "\n",
    "    if results is not None:\n",
    "        result_text.config(state=tk.NORMAL)\n",
    "        result_text.delete(1.0, tk.END)  # Clear previous results\n",
    "\n",
    "        num_results = len(results)\n",
    "        result_text.insert(tk.END, f\"About {num_results} results in {end_time - start_time:.4f} seconds \\n\\n\")\n",
    "\n",
    "        for result in results:\n",
    "            formatted_result = f\"Title: {result.get('title', 'N/A')}\\n\" \\\n",
    "                               f\"Date: {result.get('date', 'N/A')}\\n\" \\\n",
    "                               f\"Topic: {result.get('topic', 'N/A')}\\n\\n\" \\\n",
    "                               f\"  {result.get('body', 'N/A')}\\n\\n{'='*50}\\n\"\n",
    "            result_text.insert(tk.END, formatted_result)\n",
    "\n",
    "        result_text.config(state=tk.DISABLED)\n",
    "        # Clear the input after displaying results\n",
    "        entry.delete(0, tk.END)\n",
    "    else:\n",
    "        result_text.config(state=tk.NORMAL)\n",
    "        result_text.delete(1.0, tk.END)\n",
    "        result_text.insert(tk.END, \"Error connecting to Elasticsearch.\")\n",
    "        result_text.config(state=tk.DISABLED)"
   ]
  },
  {
   "cell_type": "code",
   "execution_count": 12,
   "metadata": {},
   "outputs": [
    {
     "name": "stderr",
     "output_type": "stream",
     "text": [
      "C:\\Users\\Rahhal AbuZahra\\AppData\\Local\\Temp\\ipykernel_15600\\3783121619.py:9: DeprecationWarning: The 'http_auth' parameter is deprecated. Use 'basic_auth' or 'bearer_auth' parameters instead\n",
      "  es = Elasticsearch([{'host': 'localhost', 'port': 9200, 'scheme': 'http'}], http_auth=('farah', 'farah123'))\n"
     ]
    }
   ],
   "source": [
    "# Create the main window\n",
    "root = tk.Tk()\n",
    "root.title(\"Autocomplete Search\")\n",
    "\n",
    "# Customize the style\n",
    "input_width = 40\n",
    "font_style = font.Font(family=\"Times New Roman\", size=12, slant=\"roman\")\n",
    "\n",
    "label = tk.Label(root, text=\"Enter title:\", font=font_style)\n",
    "label.pack()\n",
    "\n",
    "entry_frame = tk.Frame(root)\n",
    "entry_frame.pack()\n",
    "\n",
    "entry = tk.Entry(entry_frame, width=input_width, font=font_style)\n",
    "entry.pack(side=tk.LEFT, padx=5)  \n",
    "\n",
    "search_button = tk.Button(entry_frame, text=\"Search\", command=on_search_click, font=font_style)\n",
    "search_button.pack(side=tk.LEFT, padx=5, pady=5)  \n",
    "\n",
    "result_text = tk.Text(root, height=10, width=80, state=tk.DISABLED, font=font_style)\n",
    "result_text.pack()\n",
    "\n",
    "# Autocomplete suggestion listbox\n",
    "suggestion_listbox = tk.Listbox(root, height=5, selectmode=tk.SINGLE, font=font_style, width=60)\n",
    "suggestion_listbox.pack()\n",
    "\n",
    "# Bind events\n",
    "entry.bind(\"<KeyRelease>\", autocomplete)\n",
    "suggestion_listbox.bind(\"<ButtonRelease-1>\", on_suggestion_select)\n",
    "\n",
    "# Start the GUI event loop\n",
    "root.mainloop()\n"
   ]
  },
  {
   "cell_type": "markdown",
   "metadata": {},
   "source": [
    "## considering both title and content"
   ]
  },
  {
   "cell_type": "markdown",
   "metadata": {},
   "source": [
    "##### Retrieving relevant documents by considering both title and content, with greater emphasis placed on the title. Also, take into consideration the recency and localization factors while ranking the results. Note that the query from the user is represented as a tuple (query, temporal expression, georeference)\n"
   ]
  },
  {
   "cell_type": "code",
   "execution_count": 8,
   "metadata": {},
   "outputs": [],
   "source": [
    "def get_geopoints_and_georeferences_for_document(document_id):\n",
    "    # Fetch the specified document by ID\n",
    "    document_query = {\"query\": {\"ids\": {\"values\": [document_id]}}}\n",
    "    document_result = es.search(index=index, body=document_query)\n",
    "\n",
    "    # Extract geopoints.loc and georeferences.loc values\n",
    "    geopoints = document_result['hits']['hits'][0]['_source'].get('geopoints', [])\n",
    "    georeferences = document_result['hits']['hits'][0]['_source'].get('georeferences', [])\n",
    "\n",
    "    loc_values_geopoints = [geopoint.get('loc', 'N/A') for geopoint in geopoints]\n",
    "    loc_values_georeferences = [georeference.get('loc', 'N/A') for georeference in georeferences]\n",
    "\n",
    "    return loc_values_geopoints, loc_values_georeferences"
   ]
  },
  {
   "cell_type": "code",
   "execution_count": 9,
   "metadata": {},
   "outputs": [],
   "source": [
    "def search_documents():\n",
    "    user_query = query_entry.get()\n",
    "    user_temporal_expression = temporal_expression_entry.get()\n",
    "    location = georeference_entry.get() \n",
    "\n",
    "    query = {\n",
    "    \"query\": {\n",
    "        \"bool\": {\n",
    "            \"should\": [\n",
    "                {\n",
    "                    \"function_score\": {\n",
    "                        \"query\": {\n",
    "                            \"match\": {\n",
    "                                \"title.autocomplete\": {\n",
    "                                    \"query\": user_query,\n",
    "                                    \"operator\": \"and\"\n",
    "                                }\n",
    "                            }\n",
    "                        },\n",
    "                        \"boost\": 2  # Boost the title's relevance\n",
    "                    }\n",
    "                },\n",
    "                {\n",
    "                    \"match\": {\n",
    "                        \"body\": {\n",
    "                            \"query\": user_query,\n",
    "                            \"operator\": \"and\"\n",
    "                        }\n",
    "                    }\n",
    "                }\n",
    "            ]\n",
    "        }\n",
    "    },\n",
    "    \"sort\": [\n",
    "        {\n",
    "            \"date.keyword\": {\n",
    "                \"order\": \"desc\"\n",
    "            }\n",
    "        }\n",
    "    ]\n",
    "}\n",
    "\n",
    "    results = es.search(index=index, body=query)['hits']['hits']\n",
    "    # print(results)\n",
    "\n",
    "    # Filter results based on geolocation\n",
    "    filtered_results = []\n",
    "    for result in results:\n",
    "        doc_id = result['_id']\n",
    "        geopoints, georeferences = get_geopoints_and_georeferences_for_document(doc_id)\n",
    "         # print(geopoints)\n",
    "        if location in georeferences or location in geopoints:\n",
    "               # print(location)\n",
    "               document_temporal_expressions = result['_source'].get('temporal_expressions', [])\n",
    "             # print(document_temporal_expressions)\n",
    "               if any(expression.get('expression') == user_temporal_expression for expression in document_temporal_expressions):\n",
    "                    filtered_results.append(result)\n",
    "    \n",
    "\n",
    "    display_results(filtered_results)\n",
    "\n",
    "\n"
   ]
  },
  {
   "cell_type": "code",
   "execution_count": 10,
   "metadata": {},
   "outputs": [],
   "source": [
    "# Function to display results in the GUI\n",
    "def display_results(results):\n",
    "    results_text.config(state=tk.NORMAL)\n",
    "\n",
    "    for result in results:\n",
    "        title = result['_source'].get('title', 'N/A')\n",
    "        date = result['_source'].get('date', 'N/A')\n",
    "        topic = result['_source'].get('topic', 'N/A')\n",
    "        \n",
    "        # Extract and print \"loc\" values from \"geopoints\"\n",
    "        geopoints = result['_source'].get('geopoints', [])\n",
    "        loc_values_geopoints = [geopoint.get('loc', 'N/A') for geopoint in geopoints]\n",
    "        loc_values_geopoints_str = ', '.join(loc_values_geopoints)\n",
    "\n",
    "        # Extract and print \"loc\" values from \"georeferences\"\n",
    "        georeferences = result['_source'].get('georeferences', [])\n",
    "        loc_values_georeferences = [georeference.get('loc', 'N/A') for georeference in georeferences]\n",
    "        loc_values_georeferences_str = ', '.join(loc_values_georeferences)\n",
    "        \n",
    "        body = result['_source'].get('body', 'N/A')\n",
    "\n",
    "        # Print results in the GUI\n",
    "        result_str = f\"Title: {title}\\nDate: {date}\\nTopic: {topic}\\nplaces: {loc_values_geopoints_str} {loc_values_georeferences_str}\\n\\n{body}\\n\\n\"\n",
    "        results_text.insert(tk.END, result_str)\n",
    "\n",
    "    results_text.config(state=tk.DISABLED)\n"
   ]
  },
  {
   "cell_type": "code",
   "execution_count": 11,
   "metadata": {},
   "outputs": [],
   "source": [
    "root = tk.Tk()\n",
    "root.title(\"Elasticsearch Query Interface\")\n",
    "\n",
    "input_width = 40\n",
    "font_style = font.Font(family=\"Times New Roman\", size=12, slant=\"roman\")\n",
    "\n",
    "# Input widgets\n",
    "tk.Label(root, text=\"Query:\", font=font_style).pack()\n",
    "query_entry = tk.Entry(root, width=input_width, font=font_style)\n",
    "query_entry.pack()\n",
    "\n",
    "tk.Label(root, text=\"Temporal Expression:\", font=font_style).pack()\n",
    "temporal_expression_entry = tk.Entry(root, font=font_style,width=input_width)\n",
    "temporal_expression_entry.pack()\n",
    "\n",
    "tk.Label(root, text=\"Georeference:\", font=font_style).pack()\n",
    "georeference_entry = tk.Entry(root, width=input_width, font=font_style)\n",
    "georeference_entry.pack()\n",
    "\n",
    "search_button = tk.Button(root, text=\"Search\", command=search_documents)\n",
    "search_button.pack()\n",
    "\n",
    "results_frame = tk.Frame(root)\n",
    "results_frame.pack()\n",
    "results_text = tk.Text(results_frame, height=10)\n",
    "results_text.pack()\n",
    "root.mainloop()"
   ]
  },
  {
   "cell_type": "markdown",
   "metadata": {},
   "source": [
    "## Return the top-10 mentioned georeferences across the entire index.\n"
   ]
  },
  {
   "cell_type": "code",
   "execution_count": 56,
   "metadata": {},
   "outputs": [
    {
     "name": "stdout",
     "output_type": "stream",
     "text": [
      "Georeference: U.S., Count: 277\n",
      "Georeference: Japan, Count: 78\n",
      "Georeference: Brazil, Count: 51\n",
      "Georeference: Mexico, Count: 51\n",
      "Georeference: Taiwan, Count: 24\n",
      "Georeference: the United States, Count: 24\n",
      "Georeference: Philippines, Count: 23\n",
      "Georeference: London, Count: 22\n",
      "Georeference: New York, Count: 22\n",
      "Georeference: U.K., Count: 22\n"
     ]
    }
   ],
   "source": [
    "#bucket aggregation\n",
    "top_georeferences_query = {\n",
    "    \"size\": 0,\n",
    "    \"aggs\": {\n",
    "        \"top_georeferences\": {\n",
    "            \"nested\": {\n",
    "                \"path\": \"georeferences\"\n",
    "            },\n",
    "            \"aggs\": {\n",
    "                \"locations\": {\n",
    "                    \"terms\": {\n",
    "                        \"field\": \"georeferences.loc\",\n",
    "                        \"size\": 10\n",
    "                    }\n",
    "                }\n",
    "            }\n",
    "        }\n",
    "    }\n",
    "}\n",
    "\n",
    "\n",
    "response = es.search(index=index, body=top_georeferences_query)\n",
    "# print(response)\n",
    "\n",
    "top_georeferences_buckets = response[\"aggregations\"][\"top_georeferences\"][\"locations\"][\"buckets\"]\n",
    "for bucket in top_georeferences_buckets:\n",
    "    georeference = bucket[\"key\"]\n",
    "    count = bucket[\"doc_count\"]\n",
    "    print(f\"Georeference: {georeference}, Count: {count}\")\n",
    "    "
   ]
  },
  {
   "cell_type": "code",
   "execution_count": 57,
   "metadata": {},
   "outputs": [
    {
     "data": {
      "image/png": "[encoded data removed]",
      "text/plain": [
       "<Figure size 1000x600 with 1 Axes>"
      ]
     },
     "metadata": {},
     "output_type": "display_data"
    }
   ],
   "source": [
    "geo_x=[]\n",
    "count_y=[]\n",
    "for bucket in top_georeferences_buckets:\n",
    "    georeference = bucket[\"key\"]\n",
    "    count = bucket[\"doc_count\"]\n",
    "    geo_x.append(georeference)\n",
    "    count_y.append(count)\n",
    "    \n",
    "plt.figure(figsize=(10, 6))\n",
    "plt.bar(geo_x, count_y, color='blue')\n",
    "plt.xlabel('Georeference')\n",
    "plt.ylabel('Count')\n",
    "plt.title('Top Georeferences')\n",
    "plt.xticks(rotation=45, ha='right') \n",
    "plt.tight_layout()\n",
    "plt.show()"
   ]
  },
  {
   "cell_type": "markdown",
   "metadata": {},
   "source": [
    "## Return the distribution of documents over time, with a time aggregation of 1 day"
   ]
  },
  {
   "cell_type": "code",
   "execution_count": 13,
   "metadata": {},
   "outputs": [
    {
     "name": "stdout",
     "output_type": "stream",
     "text": [
      "Date: 1987-03-19T00:00:00.000Z, Document Count: 538\n",
      "Date: 1987-03-20T00:00:00.000Z, Document Count: 462\n"
     ]
    }
   ],
   "source": [
    "#date histogram aggregation\n",
    "query = {\n",
    "    \"size\": 0,\n",
    "    \"aggs\": {\n",
    "        \"documents_over_time\": {\n",
    "            \"date_histogram\": {\n",
    "                \"script\": {\n",
    "                    \"source\": \"\"\"\n",
    "                        def date_str = doc['date.keyword'].value;\n",
    "                        def formatter = DateTimeFormatter.ofPattern(\"yyyy-MM-dd HH:mm:ss\");\n",
    "                        def date = LocalDateTime.parse(date_str, formatter);\n",
    "                        return date.toInstant(ZoneOffset.UTC).toEpochMilli();\n",
    "                    \"\"\",\n",
    "                    \"lang\": \"painless\"\n",
    "                },\n",
    "                \"fixed_interval\": \"1d\",\n",
    "                \"min_doc_count\": 0,\n",
    "            }\n",
    "        }\n",
    "    }\n",
    "}\n",
    "# Execute the query\n",
    "result = es.search(index=index, body=query)\n",
    "\n",
    "# Extract and print the aggregation results\n",
    "histogram_data = result['aggregations']['documents_over_time']['buckets']\n",
    "for bucket in histogram_data:\n",
    "    date = bucket['key_as_string']\n",
    "    doc_count = bucket['doc_count']\n",
    "    print(f\"Date: {date}, Document Count: {doc_count}\")"
   ]
  },
  {
   "cell_type": "code",
   "execution_count": 40,
   "metadata": {},
   "outputs": [
    {
     "data": {
      "image/png": "[encoded data removed]",
      "text/plain": [
       "<Figure size 1000x500 with 1 Axes>"
      ]
     },
     "metadata": {},
     "output_type": "display_data"
    }
   ],
   "source": [
    "import pandas as pd\n",
    "import matplotlib.pyplot as plt\n",
    "\n",
    "df = pd.DataFrame(histogram_data)\n",
    "df['date'] = pd.to_datetime(df['key_as_string'])\n",
    "df.set_index('date', inplace=True)\n",
    "\n",
    "# Plot an area plot\n",
    "plt.figure(figsize=(10, 5))\n",
    "plt.fill_between(df.index, df['doc_count'], color='skyblue', alpha=0.4)\n",
    "plt.plot(df.index, df['doc_count'], color='blue', alpha=0.7, label='Document Count')\n",
    "plt.title('Document Count Over Time')\n",
    "plt.xlabel('Date')\n",
    "plt.ylabel('Document Count')\n",
    "plt.xticks(rotation=45)\n",
    "plt.legend()\n",
    "plt.tight_layout()\n",
    "plt.show()"
   ]
  }
 ],
 "metadata": {
  "kernelspec": {
   "display_name": "Python 3",
   "language": "python",
   "name": "python3"
  },
  "language_info": {
   "codemirror_mode": {
    "name": "ipython",
    "version": 3
   },
   "file_extension": ".py",
   "mimetype": "text/x-python",
   "name": "python",
   "nbconvert_exporter": "python",
   "pygments_lexer": "ipython3",
   "version": "3.10.11"
  }
 },
 "nbformat": 4,
 "nbformat_minor": 2
}
